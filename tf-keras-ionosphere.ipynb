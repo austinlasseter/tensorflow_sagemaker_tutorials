{
 "cells": [
  {
   "cell_type": "markdown",
   "metadata": {},
   "source": [
    "https://machinelearningmastery.com/tensorflow-tutorial-deep-learning-with-tf-keras/"
   ]
  },
  {
   "cell_type": "code",
   "execution_count": 15,
   "metadata": {},
   "outputs": [],
   "source": [
    "import pandas as pd\n",
    "from pandas import read_csv\n",
    "from sklearn.model_selection import train_test_split\n",
    "from sklearn.preprocessing import LabelEncoder"
   ]
  },
  {
   "cell_type": "code",
   "execution_count": 16,
   "metadata": {},
   "outputs": [],
   "source": [
    "# example of a model defined with the sequential api\n",
    "from tensorflow.keras import Sequential\n",
    "from tensorflow.keras.layers import Dense\n",
    "import tensorflow as tf"
   ]
  },
  {
   "cell_type": "code",
   "execution_count": 17,
   "metadata": {},
   "outputs": [
    {
     "name": "stdout",
     "output_type": "stream",
     "text": [
      "2.1.0\n"
     ]
    }
   ],
   "source": [
    "print(tf.__version__)"
   ]
  },
  {
   "cell_type": "markdown",
   "metadata": {},
   "source": [
    "A model has a life-cycle, and this very simple knowledge provides the backbone for both modeling a dataset and understanding the tf.keras API. The five steps in the tensorflow life-cycle are as follows:\n",
    "\n",
    "* Define the model.\n",
    "* Compile the model.\n",
    "* Fit the model.\n",
    "* Evaluate the model.\n",
    "* Make predictions."
   ]
  },
  {
   "cell_type": "markdown",
   "metadata": {},
   "source": [
    "# 0. Load and prep the data"
   ]
  },
  {
   "cell_type": "code",
   "execution_count": 2,
   "metadata": {},
   "outputs": [
    {
     "data": {
      "text/html": [
       "<div>\n",
       "<style scoped>\n",
       "    .dataframe tbody tr th:only-of-type {\n",
       "        vertical-align: middle;\n",
       "    }\n",
       "\n",
       "    .dataframe tbody tr th {\n",
       "        vertical-align: top;\n",
       "    }\n",
       "\n",
       "    .dataframe thead th {\n",
       "        text-align: right;\n",
       "    }\n",
       "</style>\n",
       "<table border=\"1\" class=\"dataframe\">\n",
       "  <thead>\n",
       "    <tr style=\"text-align: right;\">\n",
       "      <th></th>\n",
       "      <th>0</th>\n",
       "      <th>1</th>\n",
       "      <th>2</th>\n",
       "      <th>3</th>\n",
       "      <th>4</th>\n",
       "      <th>5</th>\n",
       "      <th>6</th>\n",
       "      <th>7</th>\n",
       "      <th>8</th>\n",
       "      <th>9</th>\n",
       "      <th>...</th>\n",
       "      <th>25</th>\n",
       "      <th>26</th>\n",
       "      <th>27</th>\n",
       "      <th>28</th>\n",
       "      <th>29</th>\n",
       "      <th>30</th>\n",
       "      <th>31</th>\n",
       "      <th>32</th>\n",
       "      <th>33</th>\n",
       "      <th>34</th>\n",
       "    </tr>\n",
       "  </thead>\n",
       "  <tbody>\n",
       "    <tr>\n",
       "      <th>93</th>\n",
       "      <td>1</td>\n",
       "      <td>0</td>\n",
       "      <td>-0.54180</td>\n",
       "      <td>0.14861</td>\n",
       "      <td>-0.33746</td>\n",
       "      <td>0.73375</td>\n",
       "      <td>0.52012</td>\n",
       "      <td>-0.13932</td>\n",
       "      <td>0.31889</td>\n",
       "      <td>-0.06811</td>\n",
       "      <td>...</td>\n",
       "      <td>0.65635</td>\n",
       "      <td>0.41348</td>\n",
       "      <td>-0.40116</td>\n",
       "      <td>-0.15170</td>\n",
       "      <td>0.11146</td>\n",
       "      <td>0.02399</td>\n",
       "      <td>0.55820</td>\n",
       "      <td>0.52632</td>\n",
       "      <td>-0.08978</td>\n",
       "      <td>b</td>\n",
       "    </tr>\n",
       "    <tr>\n",
       "      <th>316</th>\n",
       "      <td>1</td>\n",
       "      <td>0</td>\n",
       "      <td>0.89589</td>\n",
       "      <td>0.39286</td>\n",
       "      <td>0.66129</td>\n",
       "      <td>0.71804</td>\n",
       "      <td>0.29521</td>\n",
       "      <td>0.90824</td>\n",
       "      <td>-0.04787</td>\n",
       "      <td>0.94415</td>\n",
       "      <td>...</td>\n",
       "      <td>-0.85703</td>\n",
       "      <td>0.53229</td>\n",
       "      <td>-0.68593</td>\n",
       "      <td>0.74846</td>\n",
       "      <td>-0.40656</td>\n",
       "      <td>0.83142</td>\n",
       "      <td>-0.07029</td>\n",
       "      <td>0.76862</td>\n",
       "      <td>0.27926</td>\n",
       "      <td>g</td>\n",
       "    </tr>\n",
       "    <tr>\n",
       "      <th>345</th>\n",
       "      <td>1</td>\n",
       "      <td>0</td>\n",
       "      <td>0.66667</td>\n",
       "      <td>-0.01366</td>\n",
       "      <td>0.97404</td>\n",
       "      <td>0.06831</td>\n",
       "      <td>0.49590</td>\n",
       "      <td>0.50137</td>\n",
       "      <td>0.75683</td>\n",
       "      <td>-0.00273</td>\n",
       "      <td>...</td>\n",
       "      <td>0.06967</td>\n",
       "      <td>0.68656</td>\n",
       "      <td>0.17088</td>\n",
       "      <td>0.87568</td>\n",
       "      <td>0.07787</td>\n",
       "      <td>0.55328</td>\n",
       "      <td>0.24590</td>\n",
       "      <td>0.13934</td>\n",
       "      <td>0.48087</td>\n",
       "      <td>g</td>\n",
       "    </tr>\n",
       "  </tbody>\n",
       "</table>\n",
       "<p>3 rows × 35 columns</p>\n",
       "</div>"
      ],
      "text/plain": [
       "     0   1        2        3        4        5        6        7        8   \\\n",
       "93    1   0 -0.54180  0.14861 -0.33746  0.73375  0.52012 -0.13932  0.31889   \n",
       "316   1   0  0.89589  0.39286  0.66129  0.71804  0.29521  0.90824 -0.04787   \n",
       "345   1   0  0.66667 -0.01366  0.97404  0.06831  0.49590  0.50137  0.75683   \n",
       "\n",
       "          9   ...       25       26       27       28       29       30  \\\n",
       "93  -0.06811  ...  0.65635  0.41348 -0.40116 -0.15170  0.11146  0.02399   \n",
       "316  0.94415  ... -0.85703  0.53229 -0.68593  0.74846 -0.40656  0.83142   \n",
       "345 -0.00273  ...  0.06967  0.68656  0.17088  0.87568  0.07787  0.55328   \n",
       "\n",
       "          31       32       33  34  \n",
       "93   0.55820  0.52632 -0.08978   b  \n",
       "316 -0.07029  0.76862  0.27926   g  \n",
       "345  0.24590  0.13934  0.48087   g  \n",
       "\n",
       "[3 rows x 35 columns]"
      ]
     },
     "execution_count": 2,
     "metadata": {},
     "output_type": "execute_result"
    }
   ],
   "source": [
    "# load the dataset\n",
    "path = 'https://raw.githubusercontent.com/jbrownlee/Datasets/master/ionosphere.csv'\n",
    "df = read_csv(path, header=None)\n",
    "df.sample(3)"
   ]
  },
  {
   "cell_type": "code",
   "execution_count": 7,
   "metadata": {},
   "outputs": [
    {
     "name": "stdout",
     "output_type": "stream",
     "text": [
      "['g' 'b' 'g' 'b' 'g']\n"
     ]
    },
    {
     "data": {
      "text/plain": [
       "g    225\n",
       "b    126\n",
       "Name: 34, dtype: int64"
      ]
     },
     "execution_count": 7,
     "metadata": {},
     "output_type": "execute_result"
    }
   ],
   "source": [
    "# take a look at the target column.\n",
    "print(df.values[:5, -1])\n",
    "df[34].value_counts()"
   ]
  },
  {
   "cell_type": "code",
   "execution_count": 10,
   "metadata": {},
   "outputs": [
    {
     "name": "stdout",
     "output_type": "stream",
     "text": [
      "(235, 34) (116, 34) (235,) (116,)\n"
     ]
    }
   ],
   "source": [
    "# split into input and output columns\n",
    "X, y = df.values[:, :-1], df.values[:, -1]\n",
    "# ensure all data are floating point values\n",
    "X = X.astype('float32')\n",
    "# encode strings to integer\n",
    "y = LabelEncoder().fit_transform(y)\n",
    "# split into train and test datasets\n",
    "X_train, X_test, y_train, y_test = train_test_split(X, y, test_size=0.33)\n",
    "print(X_train.shape, X_test.shape, y_train.shape, y_test.shape)"
   ]
  },
  {
   "cell_type": "code",
   "execution_count": 18,
   "metadata": {},
   "outputs": [
    {
     "name": "stdout",
     "output_type": "stream",
     "text": [
      "34\n"
     ]
    }
   ],
   "source": [
    "# determine the number of input features\n",
    "n_features = X_train.shape[1]\n",
    "print(n_features)"
   ]
  },
  {
   "cell_type": "markdown",
   "metadata": {},
   "source": [
    "## 1. Define the model\n",
    "Defining the model requires that you first select the type of model that you need and then choose the architecture or network topology.\n",
    "\n",
    "From an API perspective, this involves defining the layers of the model, configuring each layer with a number of nodes and activation function, and connecting the layers together into a cohesive model.\n",
    "\n",
    "Models can be defined either with the Sequential API or the Functional API. The sequential model API is the simplest API. It is referred to as “sequential” because it involves defining a Sequential class and adding layers to the model one by one in a linear manner, from input to output."
   ]
  },
  {
   "cell_type": "code",
   "execution_count": 19,
   "metadata": {},
   "outputs": [
    {
     "name": "stdout",
     "output_type": "stream",
     "text": [
      "<tensorflow.python.keras.engine.sequential.Sequential object at 0x7f582233bac8>\n"
     ]
    }
   ],
   "source": [
    "# define the model\n",
    "model = Sequential()\n",
    "print(model)"
   ]
  },
  {
   "cell_type": "markdown",
   "metadata": {},
   "source": [
    "The example below defines a Sequential MLP model that accepts eight inputs, has one hidden layer with 10 nodes and then an output layer with one node to predict a numerical value.\n",
    "Note that the visible layer of the network is defined by the “input_shape” argument on the first hidden layer. That means in the example below, the model expects the input for one sample to be a vector of eight numbers."
   ]
  },
  {
   "cell_type": "code",
   "execution_count": 20,
   "metadata": {},
   "outputs": [],
   "source": [
    "# in this example, the model expects the input layer to be a vector of eight numbers.\n",
    "model.add(Dense(10, input_shape=(8,)))  # it has one hidden layer with 10 nodes\n",
    "model.add(Dense(1)) # it has an output layer with one node"
   ]
  },
  {
   "cell_type": "markdown",
   "metadata": {},
   "source": [
    "The sequential API is easy to use because you keep calling model.add() until you have added all of your layers."
   ]
  },
  {
   "cell_type": "markdown",
   "metadata": {},
   "source": [
    "## 2. Compile the Model"
   ]
  },
  {
   "cell_type": "markdown",
   "metadata": {},
   "source": [
    "Compiling the model requires that you first select a loss function that you want to optimize, such as mean squared error or cross-entropy.\n",
    "\n",
    "It also requires that you select an algorithm to perform the optimization procedure, typically stochastic gradient descent, or a modern variation, such as Adam. It may also require that you select any performance metrics to keep track of during the model training process.\n",
    "\n",
    "From an API perspective, this involves calling a function to compile the model with the chosen configuration, which will prepare the appropriate data structures required for the efficient use of the model you have defined.\n",
    "\n",
    "The optimizer can be specified as a string for a known optimizer class, e.g. ‘sgd‘ for stochastic gradient descent, or you can configure an instance of an optimizer class and use that.\n",
    "\n",
    "For a list of supported optimizers, see this: https://www.tensorflow.org/api_docs/python/tf/keras/optimizers"
   ]
  },
  {
   "cell_type": "code",
   "execution_count": 24,
   "metadata": {},
   "outputs": [],
   "source": [
    "# let's choose stochastic gradient descent as our optimizer\n",
    "from tensorflow.keras.optimizers import SGD\n",
    "opt = SGD(learning_rate=0.01, momentum=0.9)"
   ]
  },
  {
   "cell_type": "markdown",
   "metadata": {},
   "source": [
    "For a list of all supported loss functions, see: https://www.tensorflow.org/api_docs/python/tf/keras/losses\n",
    "The three most common loss functions are:\n",
    "\n",
    "* binary_crossentropy for binary classification.\n",
    "* sparse_categorical_crossentropy for multi-class classification.\n",
    "* mse (mean squared error) for regression."
   ]
  },
  {
   "cell_type": "code",
   "execution_count": 25,
   "metadata": {},
   "outputs": [],
   "source": [
    "loss_function='binary_crossentropy'"
   ]
  },
  {
   "cell_type": "markdown",
   "metadata": {},
   "source": [
    "Metrics are defined as a list of strings for known metric functions or a list of functions to call to evaluate predictions. For a list of supported metrics, see: https://www.tensorflow.org/api_docs/python/tf/keras/metrics"
   ]
  },
  {
   "cell_type": "code",
   "execution_count": 26,
   "metadata": {},
   "outputs": [],
   "source": [
    "# now we compile the model, specifying our optimizer and our loss function.\n",
    "model.compile(optimizer=opt, loss=loss_function)"
   ]
  },
  {
   "cell_type": "markdown",
   "metadata": {},
   "source": [
    "A text description of your model can be displayed by calling the summary() function on your model.\n",
    "\n"
   ]
  },
  {
   "cell_type": "code",
   "execution_count": 28,
   "metadata": {},
   "outputs": [
    {
     "name": "stdout",
     "output_type": "stream",
     "text": [
      "Model: \"sequential\"\n",
      "_________________________________________________________________\n",
      "Layer (type)                 Output Shape              Param #   \n",
      "=================================================================\n",
      "dense (Dense)                (None, 10)                90        \n",
      "_________________________________________________________________\n",
      "dense_1 (Dense)              (None, 1)                 11        \n",
      "=================================================================\n",
      "Total params: 101\n",
      "Trainable params: 101\n",
      "Non-trainable params: 0\n",
      "_________________________________________________________________\n"
     ]
    }
   ],
   "source": [
    "model.summary()"
   ]
  },
  {
   "cell_type": "code",
   "execution_count": null,
   "metadata": {},
   "outputs": [],
   "source": []
  }
 ],
 "metadata": {
  "kernelspec": {
   "display_name": "conda_tensorflow2_p36",
   "language": "python",
   "name": "conda_tensorflow2_p36"
  },
  "language_info": {
   "codemirror_mode": {
    "name": "ipython",
    "version": 3
   },
   "file_extension": ".py",
   "mimetype": "text/x-python",
   "name": "python",
   "nbconvert_exporter": "python",
   "pygments_lexer": "ipython3",
   "version": "3.6.10"
  }
 },
 "nbformat": 4,
 "nbformat_minor": 4
}
